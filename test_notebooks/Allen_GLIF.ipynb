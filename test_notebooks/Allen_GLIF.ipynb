{
 "cells": [
  {
   "cell_type": "code",
   "execution_count": 1,
   "metadata": {},
   "outputs": [],
   "source": [
    "from allensdk.api.queries.glif_api import GlifApi\n",
    "from allensdk.core.cell_types_cache import CellTypesCache\n",
    "import allensdk.core.json_utilities as json_utilities"
   ]
  },
  {
   "cell_type": "code",
   "execution_count": 2,
   "metadata": {},
   "outputs": [],
   "source": [
    "#neuronal_model_id = 566302806\n",
    "#neuronal_model_id = 566290459  # http://celltypes.brain-map.org/experiment/electrophysiology/386049446\n",
    "neuronal_model_id = 637925685  # https://celltypes.brain-map.org/experiment/electrophysiology/623893177\n",
    "\n",
    "\n",
    "# download model metadata\n",
    "glif_api = GlifApi()\n",
    "nm = glif_api.get_neuronal_models_by_id([neuronal_model_id])[0]"
   ]
  },
  {
   "cell_type": "code",
   "execution_count": 3,
   "metadata": {},
   "outputs": [
    {
     "data": {
      "text/plain": [
       "{'id': 637925685,\n",
       " 'name': '3 LIF + Afterspike Currents (LIF-ASC)_Sim1-Cre_KJ18;Ai14-345650.03.01.01',\n",
       " 'neuron_reconstruction_id': None,\n",
       " 'neuronal_model_template_id': 395310475,\n",
       " 'specimen_id': 623893177,\n",
       " 'well_known_files': [{'attachable_id': 637925685,\n",
       "   'attachable_type': 'NeuronalModel',\n",
       "   'download_link': '/api/v2/well_known_file_download/637942491',\n",
       "   'id': 637942491,\n",
       "   'path': '/external/mousecelltypes/prod1185/neuronal_model_637925685/637925685_neuron_config.json',\n",
       "   'well_known_file_type_id': 329230374,\n",
       "   'well_known_file_type': {'id': 329230374,\n",
       "    'name': 'NeuronalModelParameters'}}]}"
      ]
     },
     "execution_count": 3,
     "metadata": {},
     "output_type": "execute_result"
    }
   ],
   "source": [
    "nm"
   ]
  },
  {
   "cell_type": "code",
   "execution_count": 4,
   "metadata": {},
   "outputs": [],
   "source": [
    "# download the model configuration file\n",
    "nc = glif_api.get_neuron_configs([neuronal_model_id])[neuronal_model_id]\n",
    "neuron_config = glif_api.get_neuron_configs([neuronal_model_id])[neuronal_model_id]\n",
    "#json_utilities.write('neuron_config.json', neuron_config)"
   ]
  },
  {
   "cell_type": "code",
   "execution_count": 5,
   "metadata": {},
   "outputs": [],
   "source": [
    "#import allensdk.core.json_utilities as json_utilities\n",
    "#from allensdk.model.glif.glif_neuron import GlifNeuron\n",
    "\n",
    "# initialize the neuron\n",
    "#neuron_config = json_utilities.read('neuron_config.json')[neuronal_model_id]\n",
    "#neuron = GlifNeuron.from_dict(neuron_config)\n",
    "\n",
    "# make a short square pulse. stimulus units should be in Amps.\n",
    "#stimulus = [ 0.0 ] * 100 + [ 10e-9 ] * 100 + [ 0.0 ] * 100\n",
    "\n",
    "# important! set the neuron's dt value for your stimulus in seconds\n",
    "#neuron.dt = 5e-6\n",
    "\n",
    "# simulate the neuron\n",
    "#output = neuron.run(stimulus)\n",
    "\n",
    "#voltage = output['voltage']\n",
    "#threshold = output['threshold']\n",
    "#spike_times = output['interpolated_spike_times']"
   ]
  },
  {
   "cell_type": "code",
   "execution_count": 6,
   "metadata": {},
   "outputs": [
    {
     "data": {
      "text/plain": [
       "{'El_reference': -0.077016232808431,\n",
       " 'C': 2.330231073607339e-10,\n",
       " 'asc_amp_array': [-5.67567950400874e-11, -6.05973770880532e-10],\n",
       " 'init_threshold': 0.02770505017308362,\n",
       " 'threshold_reset_method': {'params': {}, 'name': 'inf'},\n",
       " 'th_inf': 0.02770505017308362,\n",
       " 'spike_cut_length': 185,\n",
       " 'init_AScurrents': [0.0, 0.0],\n",
       " 'init_voltage': 0.0,\n",
       " 'threshold_dynamics_method': {'params': {}, 'name': 'inf'},\n",
       " 'voltage_reset_method': {'params': {}, 'name': 'zero'},\n",
       " 'extrapolation_method_name': 'endpoints',\n",
       " 'dt': 5e-05,\n",
       " 'voltage_dynamics_method': {'params': {}, 'name': 'linear_forward_euler'},\n",
       " 'El': 0.0,\n",
       " 'asc_tau_array': [0.1, 0.01],\n",
       " 'R_input': 123376678.38880895,\n",
       " 'AScurrent_dynamics_method': {'params': {}, 'name': 'exp'},\n",
       " 'AScurrent_reset_method': {'params': {'r': [1.0, 1.0]}, 'name': 'sum'},\n",
       " 'dt_multiplier': 10,\n",
       " 'th_adapt': None,\n",
       " 'coeffs': {'a': 1,\n",
       "  'C': 1,\n",
       "  'b': 1,\n",
       "  'G': 1,\n",
       "  'th_inf': 1.038436943935436,\n",
       "  'asc_amp_array': [1.0, 1.0]},\n",
       " 'type': 'GLIF'}"
      ]
     },
     "execution_count": 6,
     "metadata": {},
     "output_type": "execute_result"
    }
   ],
   "source": [
    "neuron_config"
   ]
  },
  {
   "cell_type": "code",
   "execution_count": 7,
   "metadata": {},
   "outputs": [],
   "source": [
    "from brian2.units import *"
   ]
  },
  {
   "cell_type": "code",
   "execution_count": 8,
   "metadata": {},
   "outputs": [],
   "source": [
    "neuronpars = {\n",
    "    #'E_leak': neuron_config['El_reference'] * volt,\n",
    "    'E_leak': neuron_config['El'] * volt,\n",
    "    'C': neuron_config['C'] * farad,\n",
    "    'Rin': neuron_config['R_input'] * ohm,\n",
    "    'g_leak': 1/(neuron_config['R_input'] * ohm),\n",
    "    'Vcut': neuron_config['th_inf'] * volt,\n",
    "    'asc_amplitudes': neuron_config['asc_amp_array'] * amp,\n",
    "    'asc_tau_array': neuron_config['asc_tau_array'] * second,\n",
    "    'asc_init_values': neuron_config['init_AScurrents'] * amp\n",
    "}"
   ]
  },
  {
   "cell_type": "code",
   "execution_count": 9,
   "metadata": {},
   "outputs": [],
   "source": [
    "N_asc = len(neuronpars['asc_amplitudes'])\n",
    "for i in range(N_asc):\n",
    "    neuronpars['k'+str(i)] = (1/neuron_config['asc_tau_array'][i]) * Hz\n",
    "    neuronpars['tau_asc'+str(i)] = neuron_config['asc_tau_array'][i] * second\n",
    "    neuronpars['A_asc'+str(i)] = neuron_config['asc_amp_array'][i] * amp"
   ]
  },
  {
   "cell_type": "code",
   "execution_count": 10,
   "metadata": {},
   "outputs": [
    {
     "data": {
      "text/plain": [
       "{'E_leak': 0. * volt,\n",
       " 'C': 233.02310736 * pfarad,\n",
       " 'Rin': 123.37667839 * Mohm,\n",
       " 'g_leak': 8.10525954 * nsiemens,\n",
       " 'Vcut': 27.70505017 * mvolt,\n",
       " 'asc_amplitudes': array([ -56.75679504, -605.97377088]) * pamp,\n",
       " 'asc_tau_array': array([100.,  10.]) * msecond,\n",
       " 'asc_init_values': array([0., 0.]) * amp,\n",
       " 'k0': 10. * hertz,\n",
       " 'tau_asc0': 100. * msecond,\n",
       " 'A_asc0': -56.75679504 * pamp,\n",
       " 'k1': 100. * hertz,\n",
       " 'tau_asc1': 10. * msecond,\n",
       " 'A_asc1': -0.60597377 * namp}"
      ]
     },
     "execution_count": 10,
     "metadata": {},
     "output_type": "execute_result"
    }
   ],
   "source": [
    "neuronpars"
   ]
  },
  {
   "cell_type": "code",
   "execution_count": 11,
   "metadata": {},
   "outputs": [],
   "source": [
    "import brian2 as b2"
   ]
  },
  {
   "cell_type": "code",
   "execution_count": 12,
   "metadata": {},
   "outputs": [],
   "source": [
    "eqs = '''\n",
    "dvm/dt = (g_leak*(E_leak - vm) + I_ext + I_asc) / C : volt\n",
    "I_ext : amp\n",
    "'''\n",
    "\n",
    "#threshold_cond = 'vm > ' + repr(neuronpars['E_leak'] + neuronpars['Vcut'])\n",
    "threshold_cond = 'vm > ' + repr(neuronpars['Vcut'])\n"
   ]
  },
  {
   "cell_type": "code",
   "execution_count": 13,
   "metadata": {},
   "outputs": [
    {
     "data": {
      "text/plain": [
       "'I_asc0 + I_asc1'"
      ]
     },
     "execution_count": 13,
     "metadata": {},
     "output_type": "execute_result"
    }
   ],
   "source": [
    "N_asc = len(neuronpars['asc_amplitudes'])\n",
    "I_asc_string = ''\n",
    "reset_cond = 'vm = ' + repr(neuronpars['E_leak']) + '; '\n",
    "\n",
    "if N_asc > 0:\n",
    "    for i in range(N_asc):\n",
    "        I_asc_i = 'I_asc' + str(i)\n",
    "        I_asc_string += I_asc_i\n",
    "        reset_cond += I_asc_i + ' = ' + I_asc_i + '+' + 'A_asc'+str(i)\n",
    "        if i < N_asc-1:\n",
    "            I_asc_string += ' + '\n",
    "            reset_cond += '; '\n",
    "else:\n",
    "    I_asc_string = '0*amp'\n",
    "\n",
    "I_asc_string"
   ]
  },
  {
   "cell_type": "code",
   "execution_count": 14,
   "metadata": {},
   "outputs": [
    {
     "data": {
      "text/plain": [
       "'vm = 0. * volt; I_asc0 = I_asc0+A_asc0; I_asc1 = I_asc1+A_asc1'"
      ]
     },
     "execution_count": 14,
     "metadata": {},
     "output_type": "execute_result"
    }
   ],
   "source": [
    "reset_cond"
   ]
  },
  {
   "cell_type": "code",
   "execution_count": 15,
   "metadata": {},
   "outputs": [
    {
     "data": {
      "text/plain": [
       "'vm > 27.70505017 * mvolt'"
      ]
     },
     "execution_count": 15,
     "metadata": {},
     "output_type": "execute_result"
    }
   ],
   "source": [
    "threshold_cond"
   ]
  },
  {
   "cell_type": "code",
   "execution_count": 16,
   "metadata": {},
   "outputs": [
    {
     "data": {
      "text/latex": [
       "\\begin{align*}\\frac{\\mathrm{d}vm}{\\mathrm{d}t} &= \\frac{I_{asc0} + I_{asc1} + I_{ext} + g_{leak} \\left(E_{leak} - vm\\right)}{C} && \\text{(unit of $vm$: $\\mathrm{V}$)}\\\\\n",
       "I_{ext} &&& \\text{(unit: $\\mathrm{A}$)}\\\\\n",
       "\\frac{\\mathrm{d}I_{asc0}}{\\mathrm{d}t} &= - \\frac{I_{asc0}}{\\tau_{asc0}} && \\text{(unit of $I_{asc0}$: $\\mathrm{A}$)}\\\\\n",
       "\\frac{\\mathrm{d}I_{asc1}}{\\mathrm{d}t} &= - \\frac{I_{asc1}}{\\tau_{asc1}} && \\text{(unit of $I_{asc1}$: $\\mathrm{A}$)}\\end{align*}"
      ],
      "text/plain": [
       "dvm/dt = (I_asc0 + I_asc1 + I_ext + g_leak*(E_leak - vm))/C : volt\n",
       "I_ext : amp\n",
       "dI_asc0/dt = -I_asc0/tau_asc0 : amp\n",
       "dI_asc1/dt = -I_asc1/tau_asc1 : amp\n"
      ]
     },
     "execution_count": 16,
     "metadata": {},
     "output_type": "execute_result"
    }
   ],
   "source": [
    "asc_eq = 'dI_asc/dt = -I_asc/tau_asc : amp'\n",
    "final_eqs = b2.Equations(eqs, I_asc=I_asc_string)\n",
    "for i in range(N_asc):\n",
    "    final_eqs += b2.Equations(asc_eq, I_asc = 'I_asc'+str(i), tau_asc='tau_asc'+str(i))\n",
    "final_eqs"
   ]
  },
  {
   "cell_type": "code",
   "execution_count": 17,
   "metadata": {},
   "outputs": [
    {
     "name": "stdout",
     "output_type": "stream",
     "text": [
      "dvm/dt = (g_leak*(E_leak - vm) + I_ext + I_asc0 + I_asc1) / C : volt\n",
      "dI_asc0/dt = -I_asc0/tau_asc0 : amp\n",
      "dI_asc1/dt = -I_asc1/tau_asc1 : amp\n",
      "I_ext : amp\n"
     ]
    }
   ],
   "source": [
    "print(str(final_eqs))"
   ]
  },
  {
   "cell_type": "code",
   "execution_count": 18,
   "metadata": {},
   "outputs": [],
   "source": [
    "G = b2.NeuronGroup(1, final_eqs, threshold=threshold_cond, reset=reset_cond, namespace=neuronpars, method='euler')"
   ]
  },
  {
   "cell_type": "code",
   "execution_count": 20,
   "metadata": {},
   "outputs": [],
   "source": [
    "G.vm = neuronpars['E_leak']\n",
    "G.I_asc0 = 0*amp\n",
    "G.I_asc1 = 0*amp"
   ]
  },
  {
   "cell_type": "code",
   "execution_count": 21,
   "metadata": {},
   "outputs": [],
   "source": [
    "spikemon = b2.SpikeMonitor(G)\n",
    "statemon = b2.StateMonitor(G, ('vm', 'I_asc0', 'I_asc1'), record=True)"
   ]
  },
  {
   "cell_type": "code",
   "execution_count": 22,
   "metadata": {},
   "outputs": [],
   "source": [
    "net = b2.Network(G, spikemon, statemon)"
   ]
  },
  {
   "cell_type": "code",
   "execution_count": 23,
   "metadata": {},
   "outputs": [],
   "source": [
    "net.run(100*ms)"
   ]
  },
  {
   "cell_type": "code",
   "execution_count": 24,
   "metadata": {},
   "outputs": [],
   "source": [
    "from brian2tools import brian_plot"
   ]
  },
  {
   "cell_type": "code",
   "execution_count": 25,
   "metadata": {},
   "outputs": [],
   "source": [
    "b2.defaultclock.dt = 0.01*ms\n",
    "G.I_ext = 220*pA\n",
    "net.run(1000*ms)\n",
    "G.I_ext = 0*pA\n",
    "net.run(100*ms)"
   ]
  },
  {
   "cell_type": "code",
   "execution_count": 26,
   "metadata": {},
   "outputs": [
    {
     "data": {
      "text/plain": [
       "[<matplotlib.lines.Line2D at 0x7fac9ac86160>]"
      ]
     },
     "execution_count": 26,
     "metadata": {},
     "output_type": "execute_result"
    },
    {
     "data": {
      "image/png": "[encoded data removed]",
      "text/plain": [
       "<Figure size 432x288 with 1 Axes>"
      ]
     },
     "metadata": {
      "needs_background": "light"
     },
     "output_type": "display_data"
    }
   ],
   "source": [
    "import matplotlib.pyplot as plt\n",
    "plt.plot(statemon.t/second, statemon.vm[0]/mV)"
   ]
  },
  {
   "cell_type": "code",
   "execution_count": 27,
   "metadata": {},
   "outputs": [
    {
     "data": {
      "text/plain": [
       "[<matplotlib.lines.Line2D at 0x7fac9ab69978>]"
      ]
     },
     "execution_count": 27,
     "metadata": {},
     "output_type": "execute_result"
    },
    {
     "data": {
      "image/png": "[encoded data removed]",
      "text/plain": [
       "<Figure size 432x288 with 1 Axes>"
      ]
     },
     "metadata": {
      "needs_background": "light"
     },
     "output_type": "display_data"
    }
   ],
   "source": [
    "plt.plot(statemon.t/second, statemon.I_asc0[0]/pA, label='I_asc0')\n",
    "plt.plot(statemon.t/second, statemon.I_asc1[0]/pA, label='I_asc1')"
   ]
  },
  {
   "cell_type": "code",
   "execution_count": 28,
   "metadata": {},
   "outputs": [
    {
     "data": {
      "text/plain": [
       "{'a': 100, 'b': 2}"
      ]
     },
     "execution_count": 28,
     "metadata": {},
     "output_type": "execute_result"
    }
   ],
   "source": [
    "dict1 = {'a': 1, 'b':2}\n",
    "dict2 = {'a': 100}\n",
    "dict1.update(dict2)\n",
    "dict1"
   ]
  },
  {
   "cell_type": "code",
   "execution_count": null,
   "metadata": {},
   "outputs": [],
   "source": []
  }
 ],
 "metadata": {
  "kernelspec": {
   "display_name": "Python 3",
   "language": "python",
   "name": "python3"
  },
  "language_info": {
   "codemirror_mode": {
    "name": "ipython",
    "version": 3
   },
   "file_extension": ".py",
   "mimetype": "text/x-python",
   "name": "python",
   "nbconvert_exporter": "python",
   "pygments_lexer": "ipython3",
   "version": "3.7.1"
  }
 },
 "nbformat": 4,
 "nbformat_minor": 2
}
