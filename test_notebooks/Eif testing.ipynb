{
 "cells": [
  {
   "cell_type": "code",
   "execution_count": 1,
   "metadata": {},
   "outputs": [],
   "source": [
    "import sys\n",
    "sys.path.append('..')\n",
    "import neurodynlib as nd\n",
    "from brian2.units import *\n",
    "import brian2 as b2\n",
    "from brian2tools import brian_plot\n",
    "import matplotlib.pyplot as plt"
   ]
  },
  {
   "cell_type": "code",
   "execution_count": 2,
   "metadata": {},
   "outputs": [
    {
     "data": {
      "text/latex": [
       "\\begin{align*}\\frac{\\mathrm{d}vm}{\\mathrm{d}t} &= \\frac{g_{leak} \\left(E_{leak} - vm\\right)}{C} && \\text{(unit of $vm$: $\\mathrm{V}$, flags: unless refractory)}\\end{align*}"
      ],
      "text/plain": [
       "dvm/dt = g_leak*(E_leak - vm)/C : volt (unless refractory)\n"
      ]
     },
     "execution_count": 2,
     "metadata": {},
     "output_type": "execute_result"
    }
   ],
   "source": [
    "x = nd.LifNeuron()\n",
    "x.get_neuron_equations()"
   ]
  },
  {
   "cell_type": "code",
   "execution_count": 6,
   "metadata": {},
   "outputs": [],
   "source": [
    "x.set_excitatory_receptors('SIMPLE_E')\n",
    "x.set_inhibitory_receptors('SIMPLE_I')"
   ]
  },
  {
   "cell_type": "code",
   "execution_count": 7,
   "metadata": {},
   "outputs": [
    {
     "data": {
      "text/latex": [
       "\\begin{align*}\\frac{\\mathrm{d}vm}{\\mathrm{d}t} &= \\frac{g_{leak} \\left(E_{leak} - vm\\right) + ge \\left(Ee - vm\\right) + gi \\left(Ei - vm\\right)}{C} && \\text{(unit of $vm$: $\\mathrm{V}$, flags: unless refractory)}\\\\\n",
       "\\frac{\\mathrm{d}ge}{\\mathrm{d}t} &= - \\frac{ge}{\\tau_{e}} && \\text{(unit of $ge$: $\\mathrm{S}$)}\\\\\n",
       "\\frac{\\mathrm{d}gi}{\\mathrm{d}t} &= - \\frac{gi}{\\tau_{i}} && \\text{(unit of $gi$: $\\mathrm{S}$)}\\end{align*}"
      ],
      "text/plain": [
       "dvm/dt = (g_leak*(E_leak - vm) + ge*(Ee - vm) + gi*(Ei - vm))/C : volt (unless refractory)\n",
       "dge/dt = -ge/tau_e : siemens\n",
       "dgi/dt = -gi/tau_i : siemens\n"
      ]
     },
     "execution_count": 7,
     "metadata": {},
     "output_type": "execute_result"
    }
   ],
   "source": [
    "x.get_neuron_equations()"
   ]
  },
  {
   "cell_type": "code",
   "execution_count": null,
   "metadata": {},
   "outputs": [],
   "source": [
    "x.full_model_defns"
   ]
  },
  {
   "cell_type": "code",
   "execution_count": 8,
   "metadata": {},
   "outputs": [
    {
     "ename": "BrianObjectException",
     "evalue": "Original error and traceback:\nTraceback (most recent call last):\n  File \"/home/henhok/anaconda3/lib/python3.7/site-packages/brian2/core/network.py\", line 841, in before_run\n    obj.before_run(run_namespace)\n  File \"/home/henhok/anaconda3/lib/python3.7/site-packages/brian2/groups/neurongroup.py\", line 880, in before_run\n    self.equations.check_units(self, run_namespace=run_namespace)\n  File \"/home/henhok/anaconda3/lib/python3.7/site-packages/brian2/equations/equations.py\", line 945, in check_units\n    user_identifiers=external)  # all variables are user defined\n  File \"/home/henhok/anaconda3/lib/python3.7/site-packages/brian2/groups/group.py\", line 739, in resolve_all\n    run_namespace=run_namespace)\n  File \"/home/henhok/anaconda3/lib/python3.7/site-packages/brian2/groups/group.py\", line 696, in _resolve\n    return self._resolve_external(identifier, run_namespace=run_namespace)\n  File \"/home/henhok/anaconda3/lib/python3.7/site-packages/brian2/groups/group.py\", line 820, in _resolve_external\n    raise KeyError(error_msg)\nKeyError: 'The identifier \"tau_i\" could not be resolved.'\n\nError encountered with object named \"neurongroup\".\nObject was created here (most recent call only, full details in debug log):\n  File \"../neurodynlib/neuron_models.py\", line 244, in simulate_neuron\n    refractory=refractory_period, method=self.integration_method)\n\nAn error occurred when preparing an object. KeyError: 'The identifier \"tau_i\" could not be resolved.'\n(See above for original error message and traceback.)",
     "output_type": "error",
     "traceback": [
      "\u001b[0;31m---------------------------------------------------------------------------\u001b[0m",
      "\u001b[0;31mKeyError\u001b[0m                                  Traceback (most recent call last)",
      "\u001b[0;32m~/anaconda3/lib/python3.7/site-packages/brian2/core/network.py\u001b[0m in \u001b[0;36mbefore_run\u001b[0;34m(self, run_namespace)\u001b[0m\n\u001b[1;32m    840\u001b[0m                 \u001b[0;32mtry\u001b[0m\u001b[0;34m:\u001b[0m\u001b[0;34m\u001b[0m\u001b[0;34m\u001b[0m\u001b[0m\n\u001b[0;32m--> 841\u001b[0;31m                     \u001b[0mobj\u001b[0m\u001b[0;34m.\u001b[0m\u001b[0mbefore_run\u001b[0m\u001b[0;34m(\u001b[0m\u001b[0mrun_namespace\u001b[0m\u001b[0;34m)\u001b[0m\u001b[0;34m\u001b[0m\u001b[0;34m\u001b[0m\u001b[0m\n\u001b[0m\u001b[1;32m    842\u001b[0m                 \u001b[0;32mexcept\u001b[0m \u001b[0mException\u001b[0m \u001b[0;32mas\u001b[0m \u001b[0mex\u001b[0m\u001b[0;34m:\u001b[0m\u001b[0;34m\u001b[0m\u001b[0;34m\u001b[0m\u001b[0m\n",
      "\u001b[0;32m~/anaconda3/lib/python3.7/site-packages/brian2/groups/neurongroup.py\u001b[0m in \u001b[0;36mbefore_run\u001b[0;34m(self, run_namespace)\u001b[0m\n\u001b[1;32m    879\u001b[0m         \u001b[0;31m# Check units\u001b[0m\u001b[0;34m\u001b[0m\u001b[0;34m\u001b[0m\u001b[0;34m\u001b[0m\u001b[0m\n\u001b[0;32m--> 880\u001b[0;31m         \u001b[0mself\u001b[0m\u001b[0;34m.\u001b[0m\u001b[0mequations\u001b[0m\u001b[0;34m.\u001b[0m\u001b[0mcheck_units\u001b[0m\u001b[0;34m(\u001b[0m\u001b[0mself\u001b[0m\u001b[0;34m,\u001b[0m \u001b[0mrun_namespace\u001b[0m\u001b[0;34m=\u001b[0m\u001b[0mrun_namespace\u001b[0m\u001b[0;34m)\u001b[0m\u001b[0;34m\u001b[0m\u001b[0;34m\u001b[0m\u001b[0m\n\u001b[0m\u001b[1;32m    881\u001b[0m         \u001b[0;31m# Check that subexpressions that refer to stateful functions are labeled\u001b[0m\u001b[0;34m\u001b[0m\u001b[0;34m\u001b[0m\u001b[0;34m\u001b[0m\u001b[0m\n",
      "\u001b[0;32m~/anaconda3/lib/python3.7/site-packages/brian2/equations/equations.py\u001b[0m in \u001b[0;36mcheck_units\u001b[0;34m(self, group, run_namespace)\u001b[0m\n\u001b[1;32m    944\u001b[0m         resolved_namespace = group.resolve_all(external, run_namespace,\n\u001b[0;32m--> 945\u001b[0;31m                                                user_identifiers=external)  # all variables are user defined\n\u001b[0m\u001b[1;32m    946\u001b[0m \u001b[0;34m\u001b[0m\u001b[0m\n",
      "\u001b[0;32m~/anaconda3/lib/python3.7/site-packages/brian2/groups/group.py\u001b[0m in \u001b[0;36mresolve_all\u001b[0;34m(self, identifiers, run_namespace, user_identifiers, additional_variables)\u001b[0m\n\u001b[1;32m    738\u001b[0m                                                  \u001b[0madditional_variables\u001b[0m\u001b[0;34m=\u001b[0m\u001b[0madditional_variables\u001b[0m\u001b[0;34m,\u001b[0m\u001b[0;34m\u001b[0m\u001b[0;34m\u001b[0m\u001b[0m\n\u001b[0;32m--> 739\u001b[0;31m                                                  run_namespace=run_namespace)\n\u001b[0m\u001b[1;32m    740\u001b[0m         \u001b[0;32mreturn\u001b[0m \u001b[0mresolved\u001b[0m\u001b[0;34m\u001b[0m\u001b[0;34m\u001b[0m\u001b[0m\n",
      "\u001b[0;32m~/anaconda3/lib/python3.7/site-packages/brian2/groups/group.py\u001b[0m in \u001b[0;36m_resolve\u001b[0;34m(self, identifier, run_namespace, user_identifier, additional_variables)\u001b[0m\n\u001b[1;32m    695\u001b[0m         \u001b[0;31m# namespace\u001b[0m\u001b[0;34m\u001b[0m\u001b[0;34m\u001b[0m\u001b[0;34m\u001b[0m\u001b[0m\n\u001b[0;32m--> 696\u001b[0;31m         \u001b[0;32mreturn\u001b[0m \u001b[0mself\u001b[0m\u001b[0;34m.\u001b[0m\u001b[0m_resolve_external\u001b[0m\u001b[0;34m(\u001b[0m\u001b[0midentifier\u001b[0m\u001b[0;34m,\u001b[0m \u001b[0mrun_namespace\u001b[0m\u001b[0;34m=\u001b[0m\u001b[0mrun_namespace\u001b[0m\u001b[0;34m)\u001b[0m\u001b[0;34m\u001b[0m\u001b[0;34m\u001b[0m\u001b[0m\n\u001b[0m\u001b[1;32m    697\u001b[0m \u001b[0;34m\u001b[0m\u001b[0m\n",
      "\u001b[0;32m~/anaconda3/lib/python3.7/site-packages/brian2/groups/group.py\u001b[0m in \u001b[0;36m_resolve_external\u001b[0;34m(self, identifier, run_namespace, user_identifier, internal_variable)\u001b[0m\n\u001b[1;32m    819\u001b[0m                                  identifier)\n\u001b[0;32m--> 820\u001b[0;31m                 \u001b[0;32mraise\u001b[0m \u001b[0mKeyError\u001b[0m\u001b[0;34m(\u001b[0m\u001b[0merror_msg\u001b[0m\u001b[0;34m)\u001b[0m\u001b[0;34m\u001b[0m\u001b[0;34m\u001b[0m\u001b[0m\n\u001b[0m\u001b[1;32m    821\u001b[0m \u001b[0;34m\u001b[0m\u001b[0m\n",
      "\u001b[0;31mKeyError\u001b[0m: 'The identifier \"tau_i\" could not be resolved.'",
      "\nDuring handling of the above exception, another exception occurred:\n",
      "\u001b[0;31mBrianObjectException\u001b[0m                      Traceback (most recent call last)",
      "\u001b[0;32m<ipython-input-8-758d46305348>\u001b[0m in \u001b[0;36m<module>\u001b[0;34m\u001b[0m\n\u001b[1;32m      1\u001b[0m \u001b[0minputcurr\u001b[0m \u001b[0;34m=\u001b[0m \u001b[0mnd\u001b[0m\u001b[0;34m.\u001b[0m\u001b[0minput_factory\u001b[0m\u001b[0;34m.\u001b[0m\u001b[0mget_step_current\u001b[0m\u001b[0;34m(\u001b[0m\u001b[0mt_start\u001b[0m\u001b[0;34m=\u001b[0m\u001b[0;36m100\u001b[0m\u001b[0;34m,\u001b[0m \u001b[0mt_end\u001b[0m\u001b[0;34m=\u001b[0m\u001b[0;36m200\u001b[0m\u001b[0;34m,\u001b[0m \u001b[0munit_time\u001b[0m\u001b[0;34m=\u001b[0m\u001b[0mms\u001b[0m\u001b[0;34m,\u001b[0m \u001b[0mamplitude\u001b[0m\u001b[0;34m=\u001b[0m\u001b[0;36m1000\u001b[0m\u001b[0;34m*\u001b[0m\u001b[0mpA\u001b[0m\u001b[0;34m)\u001b[0m\u001b[0;34m\u001b[0m\u001b[0;34m\u001b[0m\u001b[0m\n\u001b[0;32m----> 2\u001b[0;31m \u001b[0mstatemon\u001b[0m\u001b[0;34m,\u001b[0m \u001b[0mspikemon\u001b[0m \u001b[0;34m=\u001b[0m \u001b[0mx\u001b[0m\u001b[0;34m.\u001b[0m\u001b[0msimulate_neuron\u001b[0m\u001b[0;34m(\u001b[0m\u001b[0msimulation_time\u001b[0m\u001b[0;34m=\u001b[0m\u001b[0;36m1000\u001b[0m\u001b[0;34m*\u001b[0m\u001b[0mms\u001b[0m\u001b[0;34m)\u001b[0m\u001b[0;34m\u001b[0m\u001b[0;34m\u001b[0m\u001b[0m\n\u001b[0m",
      "\u001b[0;32m~/PycharmProjects/neurodynlib/neurodynlib/neuron_models.py\u001b[0m in \u001b[0;36msimulate_neuron\u001b[0;34m(self, I_stim, simulation_time, **kwargs)\u001b[0m\n\u001b[1;32m    254\u001b[0m         \u001b[0;31m# Run the simulation\u001b[0m\u001b[0;34m\u001b[0m\u001b[0;34m\u001b[0m\u001b[0;34m\u001b[0m\u001b[0m\n\u001b[1;32m    255\u001b[0m         \u001b[0mnet\u001b[0m \u001b[0;34m=\u001b[0m \u001b[0mb2\u001b[0m\u001b[0;34m.\u001b[0m\u001b[0mNetwork\u001b[0m\u001b[0;34m(\u001b[0m\u001b[0mneuron\u001b[0m\u001b[0;34m,\u001b[0m \u001b[0mstate_monitor\u001b[0m\u001b[0;34m,\u001b[0m \u001b[0mspike_monitor\u001b[0m\u001b[0;34m)\u001b[0m\u001b[0;34m\u001b[0m\u001b[0;34m\u001b[0m\u001b[0m\n\u001b[0;32m--> 256\u001b[0;31m         \u001b[0mnet\u001b[0m\u001b[0;34m.\u001b[0m\u001b[0mrun\u001b[0m\u001b[0;34m(\u001b[0m\u001b[0msimulation_time\u001b[0m\u001b[0;34m)\u001b[0m\u001b[0;34m\u001b[0m\u001b[0;34m\u001b[0m\u001b[0m\n\u001b[0m\u001b[1;32m    257\u001b[0m \u001b[0;34m\u001b[0m\u001b[0m\n\u001b[1;32m    258\u001b[0m         \u001b[0;32mreturn\u001b[0m \u001b[0mstate_monitor\u001b[0m\u001b[0;34m,\u001b[0m \u001b[0mspike_monitor\u001b[0m\u001b[0;34m\u001b[0m\u001b[0;34m\u001b[0m\u001b[0m\n",
      "\u001b[0;32m~/anaconda3/lib/python3.7/site-packages/brian2/core/base.py\u001b[0m in \u001b[0;36mdevice_override_decorated_function\u001b[0;34m(*args, **kwds)\u001b[0m\n\u001b[1;32m    274\u001b[0m                 \u001b[0;32mreturn\u001b[0m \u001b[0mgetattr\u001b[0m\u001b[0;34m(\u001b[0m\u001b[0mcurdev\u001b[0m\u001b[0;34m,\u001b[0m \u001b[0mname\u001b[0m\u001b[0;34m)\u001b[0m\u001b[0;34m(\u001b[0m\u001b[0;34m*\u001b[0m\u001b[0margs\u001b[0m\u001b[0;34m,\u001b[0m \u001b[0;34m**\u001b[0m\u001b[0mkwds\u001b[0m\u001b[0;34m)\u001b[0m\u001b[0;34m\u001b[0m\u001b[0;34m\u001b[0m\u001b[0m\n\u001b[1;32m    275\u001b[0m             \u001b[0;32melse\u001b[0m\u001b[0;34m:\u001b[0m\u001b[0;34m\u001b[0m\u001b[0;34m\u001b[0m\u001b[0m\n\u001b[0;32m--> 276\u001b[0;31m                 \u001b[0;32mreturn\u001b[0m \u001b[0mfunc\u001b[0m\u001b[0;34m(\u001b[0m\u001b[0;34m*\u001b[0m\u001b[0margs\u001b[0m\u001b[0;34m,\u001b[0m \u001b[0;34m**\u001b[0m\u001b[0mkwds\u001b[0m\u001b[0;34m)\u001b[0m\u001b[0;34m\u001b[0m\u001b[0;34m\u001b[0m\u001b[0m\n\u001b[0m\u001b[1;32m    277\u001b[0m \u001b[0;34m\u001b[0m\u001b[0m\n\u001b[1;32m    278\u001b[0m         \u001b[0mdevice_override_decorated_function\u001b[0m\u001b[0;34m.\u001b[0m\u001b[0m__doc__\u001b[0m \u001b[0;34m=\u001b[0m \u001b[0mfunc\u001b[0m\u001b[0;34m.\u001b[0m\u001b[0m__doc__\u001b[0m\u001b[0;34m\u001b[0m\u001b[0;34m\u001b[0m\u001b[0m\n",
      "\u001b[0;32m~/anaconda3/lib/python3.7/site-packages/brian2/units/fundamentalunits.py\u001b[0m in \u001b[0;36mnew_f\u001b[0;34m(*args, **kwds)\u001b[0m\n\u001b[1;32m   2373\u001b[0m                                                      get_dimensions(newkeyset[k]))\n\u001b[1;32m   2374\u001b[0m \u001b[0;34m\u001b[0m\u001b[0m\n\u001b[0;32m-> 2375\u001b[0;31m             \u001b[0mresult\u001b[0m \u001b[0;34m=\u001b[0m \u001b[0mf\u001b[0m\u001b[0;34m(\u001b[0m\u001b[0;34m*\u001b[0m\u001b[0margs\u001b[0m\u001b[0;34m,\u001b[0m \u001b[0;34m**\u001b[0m\u001b[0mkwds\u001b[0m\u001b[0;34m)\u001b[0m\u001b[0;34m\u001b[0m\u001b[0;34m\u001b[0m\u001b[0m\n\u001b[0m\u001b[1;32m   2376\u001b[0m             \u001b[0;32mif\u001b[0m \u001b[0;34m'result'\u001b[0m \u001b[0;32min\u001b[0m \u001b[0mau\u001b[0m\u001b[0;34m:\u001b[0m\u001b[0;34m\u001b[0m\u001b[0;34m\u001b[0m\u001b[0m\n\u001b[1;32m   2377\u001b[0m                 \u001b[0;32mif\u001b[0m \u001b[0mau\u001b[0m\u001b[0;34m[\u001b[0m\u001b[0;34m'result'\u001b[0m\u001b[0;34m]\u001b[0m \u001b[0;34m==\u001b[0m \u001b[0mbool\u001b[0m\u001b[0;34m:\u001b[0m\u001b[0;34m\u001b[0m\u001b[0;34m\u001b[0m\u001b[0m\n",
      "\u001b[0;32m~/anaconda3/lib/python3.7/site-packages/brian2/core/network.py\u001b[0m in \u001b[0;36mrun\u001b[0;34m(self, duration, report, report_period, namespace, profile, level)\u001b[0m\n\u001b[1;32m    949\u001b[0m             \u001b[0mnamespace\u001b[0m \u001b[0;34m=\u001b[0m \u001b[0mget_local_namespace\u001b[0m\u001b[0;34m(\u001b[0m\u001b[0mlevel\u001b[0m\u001b[0;34m=\u001b[0m\u001b[0mlevel\u001b[0m\u001b[0;34m+\u001b[0m\u001b[0;36m3\u001b[0m\u001b[0;34m)\u001b[0m\u001b[0;34m\u001b[0m\u001b[0;34m\u001b[0m\u001b[0m\n\u001b[1;32m    950\u001b[0m \u001b[0;34m\u001b[0m\u001b[0m\n\u001b[0;32m--> 951\u001b[0;31m         \u001b[0mself\u001b[0m\u001b[0;34m.\u001b[0m\u001b[0mbefore_run\u001b[0m\u001b[0;34m(\u001b[0m\u001b[0mnamespace\u001b[0m\u001b[0;34m)\u001b[0m\u001b[0;34m\u001b[0m\u001b[0;34m\u001b[0m\u001b[0m\n\u001b[0m\u001b[1;32m    952\u001b[0m \u001b[0;34m\u001b[0m\u001b[0m\n\u001b[1;32m    953\u001b[0m         \u001b[0;32mif\u001b[0m \u001b[0mlen\u001b[0m\u001b[0;34m(\u001b[0m\u001b[0mself\u001b[0m\u001b[0;34m.\u001b[0m\u001b[0mobjects\u001b[0m\u001b[0;34m)\u001b[0m\u001b[0;34m==\u001b[0m\u001b[0;36m0\u001b[0m\u001b[0;34m:\u001b[0m\u001b[0;34m\u001b[0m\u001b[0;34m\u001b[0m\u001b[0m\n",
      "\u001b[0;32m~/anaconda3/lib/python3.7/site-packages/brian2/core/base.py\u001b[0m in \u001b[0;36mdevice_override_decorated_function\u001b[0;34m(*args, **kwds)\u001b[0m\n\u001b[1;32m    274\u001b[0m                 \u001b[0;32mreturn\u001b[0m \u001b[0mgetattr\u001b[0m\u001b[0;34m(\u001b[0m\u001b[0mcurdev\u001b[0m\u001b[0;34m,\u001b[0m \u001b[0mname\u001b[0m\u001b[0;34m)\u001b[0m\u001b[0;34m(\u001b[0m\u001b[0;34m*\u001b[0m\u001b[0margs\u001b[0m\u001b[0;34m,\u001b[0m \u001b[0;34m**\u001b[0m\u001b[0mkwds\u001b[0m\u001b[0;34m)\u001b[0m\u001b[0;34m\u001b[0m\u001b[0;34m\u001b[0m\u001b[0m\n\u001b[1;32m    275\u001b[0m             \u001b[0;32melse\u001b[0m\u001b[0;34m:\u001b[0m\u001b[0;34m\u001b[0m\u001b[0;34m\u001b[0m\u001b[0m\n\u001b[0;32m--> 276\u001b[0;31m                 \u001b[0;32mreturn\u001b[0m \u001b[0mfunc\u001b[0m\u001b[0;34m(\u001b[0m\u001b[0;34m*\u001b[0m\u001b[0margs\u001b[0m\u001b[0;34m,\u001b[0m \u001b[0;34m**\u001b[0m\u001b[0mkwds\u001b[0m\u001b[0;34m)\u001b[0m\u001b[0;34m\u001b[0m\u001b[0;34m\u001b[0m\u001b[0m\n\u001b[0m\u001b[1;32m    277\u001b[0m \u001b[0;34m\u001b[0m\u001b[0m\n\u001b[1;32m    278\u001b[0m         \u001b[0mdevice_override_decorated_function\u001b[0m\u001b[0;34m.\u001b[0m\u001b[0m__doc__\u001b[0m \u001b[0;34m=\u001b[0m \u001b[0mfunc\u001b[0m\u001b[0;34m.\u001b[0m\u001b[0m__doc__\u001b[0m\u001b[0;34m\u001b[0m\u001b[0;34m\u001b[0m\u001b[0m\n",
      "\u001b[0;32m~/anaconda3/lib/python3.7/site-packages/brian2/core/network.py\u001b[0m in \u001b[0;36mbefore_run\u001b[0;34m(self, run_namespace)\u001b[0m\n\u001b[1;32m    841\u001b[0m                     \u001b[0mobj\u001b[0m\u001b[0;34m.\u001b[0m\u001b[0mbefore_run\u001b[0m\u001b[0;34m(\u001b[0m\u001b[0mrun_namespace\u001b[0m\u001b[0;34m)\u001b[0m\u001b[0;34m\u001b[0m\u001b[0;34m\u001b[0m\u001b[0m\n\u001b[1;32m    842\u001b[0m                 \u001b[0;32mexcept\u001b[0m \u001b[0mException\u001b[0m \u001b[0;32mas\u001b[0m \u001b[0mex\u001b[0m\u001b[0;34m:\u001b[0m\u001b[0;34m\u001b[0m\u001b[0;34m\u001b[0m\u001b[0m\n\u001b[0;32m--> 843\u001b[0;31m                     \u001b[0;32mraise\u001b[0m \u001b[0mbrian_object_exception\u001b[0m\u001b[0;34m(\u001b[0m\u001b[0;34m\"An error occurred when preparing an object.\"\u001b[0m\u001b[0;34m,\u001b[0m \u001b[0mobj\u001b[0m\u001b[0;34m,\u001b[0m \u001b[0mex\u001b[0m\u001b[0;34m)\u001b[0m\u001b[0;34m\u001b[0m\u001b[0;34m\u001b[0m\u001b[0m\n\u001b[0m\u001b[1;32m    844\u001b[0m \u001b[0;34m\u001b[0m\u001b[0m\n\u001b[1;32m    845\u001b[0m         \u001b[0;31m# Check that no object has been run as part of another network before\u001b[0m\u001b[0;34m\u001b[0m\u001b[0;34m\u001b[0m\u001b[0;34m\u001b[0m\u001b[0m\n",
      "\u001b[0;31mBrianObjectException\u001b[0m: Original error and traceback:\nTraceback (most recent call last):\n  File \"/home/henhok/anaconda3/lib/python3.7/site-packages/brian2/core/network.py\", line 841, in before_run\n    obj.before_run(run_namespace)\n  File \"/home/henhok/anaconda3/lib/python3.7/site-packages/brian2/groups/neurongroup.py\", line 880, in before_run\n    self.equations.check_units(self, run_namespace=run_namespace)\n  File \"/home/henhok/anaconda3/lib/python3.7/site-packages/brian2/equations/equations.py\", line 945, in check_units\n    user_identifiers=external)  # all variables are user defined\n  File \"/home/henhok/anaconda3/lib/python3.7/site-packages/brian2/groups/group.py\", line 739, in resolve_all\n    run_namespace=run_namespace)\n  File \"/home/henhok/anaconda3/lib/python3.7/site-packages/brian2/groups/group.py\", line 696, in _resolve\n    return self._resolve_external(identifier, run_namespace=run_namespace)\n  File \"/home/henhok/anaconda3/lib/python3.7/site-packages/brian2/groups/group.py\", line 820, in _resolve_external\n    raise KeyError(error_msg)\nKeyError: 'The identifier \"tau_i\" could not be resolved.'\n\nError encountered with object named \"neurongroup\".\nObject was created here (most recent call only, full details in debug log):\n  File \"../neurodynlib/neuron_models.py\", line 244, in simulate_neuron\n    refractory=refractory_period, method=self.integration_method)\n\nAn error occurred when preparing an object. KeyError: 'The identifier \"tau_i\" could not be resolved.'\n(See above for original error message and traceback.)"
     ]
    }
   ],
   "source": [
    "inputcurr = nd.input_factory.get_step_current(t_start=100, t_end=200, unit_time=ms, amplitude=1000*pA)\n",
    "statemon, spikemon = x.simulate_neuron(simulation_time=1000*ms)"
   ]
  },
  {
   "cell_type": "code",
   "execution_count": null,
   "metadata": {},
   "outputs": [],
   "source": [
    "x.plot_vm(statemon)"
   ]
  },
  {
   "cell_type": "code",
   "execution_count": null,
   "metadata": {},
   "outputs": [],
   "source": [
    "x.get_neuron_equations()"
   ]
  },
  {
   "cell_type": "code",
   "execution_count": null,
   "metadata": {},
   "outputs": [],
   "source": [
    "x.getting_started()"
   ]
  },
  {
   "cell_type": "code",
   "execution_count": null,
   "metadata": {},
   "outputs": [],
   "source": []
  }
 ],
 "metadata": {
  "kernelspec": {
   "display_name": "Python 3",
   "language": "python",
   "name": "python3"
  },
  "language_info": {
   "codemirror_mode": {
    "name": "ipython",
    "version": 3
   },
   "file_extension": ".py",
   "mimetype": "text/x-python",
   "name": "python",
   "nbconvert_exporter": "python",
   "pygments_lexer": "ipython3",
   "version": "3.7.1"
  }
 },
 "nbformat": 4,
 "nbformat_minor": 2
}
