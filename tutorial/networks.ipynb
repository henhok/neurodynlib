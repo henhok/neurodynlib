{
 "cells": [
  {
   "cell_type": "code",
   "execution_count": 1,
   "metadata": {},
   "outputs": [],
   "source": [
    "import sys\n",
    "sys.path.append('../')\n",
    "import neurodynlib as nd\n",
    "from brian2.units import *\n",
    "import brian2 as b2\n",
    "import matplotlib.pyplot as plt\n",
    "\n",
    "#b2.codegen.target = 'numpy'"
   ]
  },
  {
   "cell_type": "markdown",
   "metadata": {},
   "source": [
    "# Running network simulations \\*\\*under construction\\*\\*"
   ]
  },
  {
   "cell_type": "markdown",
   "metadata": {},
   "source": [
    "## Create neuron models"
   ]
  },
  {
   "cell_type": "code",
   "execution_count": 2,
   "metadata": {},
   "outputs": [
    {
     "data": {
      "text/plain": [
       "['cNA',\n",
       " 'cAD',\n",
       " 'RS',\n",
       " 'Fig_4a',\n",
       " 'Fig_4b',\n",
       " 'Fig_4c',\n",
       " 'Fig_4d',\n",
       " 'Fig_4e',\n",
       " 'Fig_4f',\n",
       " 'Fig_4g',\n",
       " 'Figs_4h']"
      ]
     },
     "execution_count": 2,
     "metadata": {},
     "output_type": "execute_result"
    }
   ],
   "source": [
    "naud2008_json = 'naud2008_table1.json'\n",
    "exc_neuron = nd.AdexNeuron()\n",
    "exc_neuron.list_neurons_in_json(naud2008_json)"
   ]
  },
  {
   "cell_type": "code",
   "execution_count": 3,
   "metadata": {},
   "outputs": [],
   "source": [
    "exc_neuron.read_json(naud2008_json, 'RS')"
   ]
  },
  {
   "cell_type": "code",
   "execution_count": 4,
   "metadata": {},
   "outputs": [],
   "source": [
    "inh_neuron = nd.AdexNeuron()\n",
    "inh_neuron.read_json(naud2008_json, 'cNA')"
   ]
  },
  {
   "cell_type": "code",
   "execution_count": 5,
   "metadata": {},
   "outputs": [
    {
     "data": {
      "text/latex": [
       "\\begin{align*}\\frac{\\mathrm{d}vm}{\\mathrm{d}t} &= \\frac{DeltaT gL e^{\\frac{- VT + vm}{DeltaT}} + gL \\left(EL - vm\\right) - w}{C} && \\text{(unit of $vm$: $\\mathrm{V}$, flags: unless refractory)}\\\\\n",
       "\\frac{\\mathrm{d}w}{\\mathrm{d}t} &= \\frac{a \\left(- EL + vm\\right) - w}{\\tau_{w}} && \\text{(unit of $w$: $\\mathrm{A}$)}\\end{align*}"
      ],
      "text/plain": [
       "dvm/dt = (DeltaT*gL*exp((-VT + vm)/DeltaT) + gL*(EL - vm) - w)/C : volt (unless refractory)\n",
       "dw/dt = (a*(-EL + vm) - w)/tau_w : amp\n"
      ]
     },
     "execution_count": 5,
     "metadata": {},
     "output_type": "execute_result"
    }
   ],
   "source": [
    "exc_neuron.get_neuron_equations()"
   ]
  },
  {
   "cell_type": "code",
   "execution_count": 6,
   "metadata": {},
   "outputs": [
    {
     "data": {
      "image/png": "[encoded data removed]",
      "text/plain": [
       "<Figure size 864x288 with 1 Axes>"
      ]
     },
     "metadata": {
      "needs_background": "light"
     },
     "output_type": "display_data"
    }
   ],
   "source": [
    "input = nd.input_factory.get_step_current(t_start=100, t_end=600, unit_time=ms, amplitude=150*pA)\n",
    "statemon, spikemon = exc_neuron.simulate_neuron(I_stim=input, simulation_time=700*ms)\n",
    "exc_neuron.plot_vm(statemon)"
   ]
  },
  {
   "cell_type": "markdown",
   "metadata": {},
   "source": [
    "## Receptors"
   ]
  },
  {
   "cell_type": "code",
   "execution_count": 7,
   "metadata": {},
   "outputs": [],
   "source": [
    "exc_receptor_model = 'SIMPLE_E'\n",
    "inh_receptor_model = 'SIMPLE_I'"
   ]
  },
  {
   "cell_type": "code",
   "execution_count": 8,
   "metadata": {},
   "outputs": [],
   "source": [
    "exc_neuron.set_excitatory_receptors(exc_receptor_model)"
   ]
  },
  {
   "cell_type": "code",
   "execution_count": 9,
   "metadata": {},
   "outputs": [
    {
     "data": {
      "text/latex": [
       "\\begin{align*}\\frac{\\mathrm{d}vm}{\\mathrm{d}t} &= \\frac{DeltaT gL e^{\\frac{- VT + vm}{DeltaT}} + gL \\left(EL - vm\\right) + ge \\left(Ee - vm\\right) - w}{C} && \\text{(unit of $vm$: $\\mathrm{V}$, flags: unless refractory)}\\\\\n",
       "\\frac{\\mathrm{d}w}{\\mathrm{d}t} &= \\frac{a \\left(- EL + vm\\right) - w}{\\tau_{w}} && \\text{(unit of $w$: $\\mathrm{A}$)}\\\\\n",
       "\\frac{\\mathrm{d}ge}{\\mathrm{d}t} &= - \\frac{ge}{\\tau_{e}} && \\text{(unit of $ge$: $\\mathrm{S}$)}\\end{align*}"
      ],
      "text/plain": [
       "dvm/dt = (DeltaT*gL*exp((-VT + vm)/DeltaT) + gL*(EL - vm) + ge*(Ee - vm) - w)/C : volt (unless refractory)\n",
       "dw/dt = (a*(-EL + vm) - w)/tau_w : amp\n",
       "dge/dt = -ge/tau_e : siemens\n"
      ]
     },
     "execution_count": 9,
     "metadata": {},
     "output_type": "execute_result"
    }
   ],
   "source": [
    "exc_neuron.get_neuron_equations()"
   ]
  },
  {
   "cell_type": "code",
   "execution_count": 10,
   "metadata": {},
   "outputs": [
    {
     "data": {
      "text/plain": [
       "{'C': 104. * pfarad,\n",
       " 'gL': 4.3 * nsiemens,\n",
       " 'EL': -65. * mvolt,\n",
       " 'VT': -52. * mvolt,\n",
       " 'DeltaT': 0.8 * mvolt,\n",
       " 'a': -0.8 * nsiemens,\n",
       " 'tau_w': 88. * msecond,\n",
       " 'b': 65. * pamp,\n",
       " 'V_res': -53. * mvolt,\n",
       " 'refractory_period': 2. * msecond,\n",
       " 'Vcut': 20. * mvolt}"
      ]
     },
     "execution_count": 10,
     "metadata": {},
     "output_type": "execute_result"
    }
   ],
   "source": [
    "exc_neuron.get_neuron_parameters()  # TODO - setting receptors should set default parameters"
   ]
  },
  {
   "cell_type": "code",
   "execution_count": 11,
   "metadata": {},
   "outputs": [],
   "source": [
    "exc_neuron.set_inhibitory_receptors(inh_receptor_model)\n",
    "inh_neuron.set_excitatory_receptors(exc_receptor_model)\n",
    "inh_neuron.set_inhibitory_receptors(inh_receptor_model)"
   ]
  },
  {
   "cell_type": "code",
   "execution_count": 12,
   "metadata": {},
   "outputs": [],
   "source": [
    "# This shouldn't be here\n",
    "exc_neuron.neuron_parameters['tau_e'] = 5.0*ms\n",
    "exc_neuron.neuron_parameters['tau_i'] = 20.0*ms\n",
    "exc_neuron.neuron_parameters['Ee'] = 0*mV\n",
    "exc_neuron.neuron_parameters['Ei'] = -80*mV\n",
    "\n",
    "inh_neuron.neuron_parameters['tau_e'] = 5.0*ms\n",
    "inh_neuron.neuron_parameters['tau_i'] = 20.0*ms\n",
    "exc_neuron.neuron_parameters['Ee'] = 0*mV\n",
    "exc_neuron.neuron_parameters['Ei'] = -80*mV"
   ]
  },
  {
   "cell_type": "markdown",
   "metadata": {},
   "source": [
    "## Create neuron populations"
   ]
  },
  {
   "cell_type": "code",
   "execution_count": 13,
   "metadata": {},
   "outputs": [],
   "source": [
    "exc_pop = b2.NeuronGroup(3200, model=exc_neuron.get_neuron_equations(),\n",
    "                             namespace=exc_neuron.get_neuron_parameters(),\n",
    "                             reset=exc_neuron.get_reset_statements(),\n",
    "                             threshold=exc_neuron.get_threshold_condition(), \n",
    "                             refractory=exc_neuron.get_refractory_period())"
   ]
  },
  {
   "cell_type": "code",
   "execution_count": 14,
   "metadata": {},
   "outputs": [],
   "source": [
    "inh_pop = b2.NeuronGroup(800, model=inh_neuron.get_neuron_equations(), \n",
    "                             namespace=exc_neuron.get_neuron_parameters(),\n",
    "                             reset=inh_neuron.get_reset_statements(),\n",
    "                             threshold=inh_neuron.get_threshold_condition(), \n",
    "                             refractory=inh_neuron.get_refractory_period())"
   ]
  },
  {
   "cell_type": "code",
   "execution_count": 15,
   "metadata": {},
   "outputs": [
    {
     "data": {
      "text/html": [
       "NeuronGroup \"neurongroup_1\" with 3200 neurons.<br>\n",
       "<b>Model:</b><nr>\n",
       "\\begin{align*}\\frac{\\mathrm{d}vm}{\\mathrm{d}t} &= \\frac{\\left(DeltaT gL e^{\\frac{- VT + vm}{DeltaT}} + gL \\left(EL - vm\\right) + ge \\left(Ee - vm\\right) + gi \\left(Ei - vm\\right) - w\\right) \\operatorname{int_{}}{\\left (not_{refractory} \\right )}}{C} && \\text{(unit of $vm$: $\\mathrm{V}$, flags: unless refractory)}\\\\\n",
       "\\frac{\\mathrm{d}w}{\\mathrm{d}t} &= \\frac{a \\left(- EL + vm\\right) - w}{\\tau_{w}} && \\text{(unit of $w$: $\\mathrm{A}$)}\\\\\n",
       "\\frac{\\mathrm{d}ge}{\\mathrm{d}t} &= - \\frac{ge}{\\tau_{e}} && \\text{(unit of $ge$: $\\mathrm{S}$)}\\\\\n",
       "\\frac{\\mathrm{d}gi}{\\mathrm{d}t} &= - \\frac{gi}{\\tau_{i}} && \\text{(unit of $gi$: $\\mathrm{S}$)}\\\\\n",
       "not_{refractory} &&& \\text{(unit: $\\mathrm{rad}$)}\\\\\n",
       "lastspike &&& \\text{(unit: $\\mathrm{s}$)}\\end{align*}\n",
       "<b>Spiking behaviour:</b><ul style=\"list-style-type: none; margin-top: 0px;\">\n",
       "<li><i>Threshold condition: </i>\n",
       "<code>vm > Vcut</code></li>\n",
       "<li><i>Reset statement(s):</i>\n",
       "<code>vm = V_res; w += b</code></li>\n",
       "</ul>"
      ],
      "text/plain": [
       "NeuronGroup(clock=Clock(dt=100. * usecond, name='defaultclock'), when=start, order=0, name='neurongroup_1')"
      ]
     },
     "execution_count": 15,
     "metadata": {},
     "output_type": "execute_result"
    }
   ],
   "source": [
    "exc_pop"
   ]
  },
  {
   "cell_type": "markdown",
   "metadata": {},
   "source": [
    "## Connecting the groups"
   ]
  },
  {
   "cell_type": "code",
   "execution_count": 16,
   "metadata": {},
   "outputs": [],
   "source": [
    "exc_weight = 3*nS\n",
    "inh_weight = 6*nS\n",
    "Syn_EE = b2.Synapses(exc_pop, exc_pop, on_pre='ge_post += exc_weight')\n",
    "Syn_EI = b2.Synapses(exc_pop, inh_pop, on_pre='ge_post += exc_weight')\n",
    "Syn_IE = b2.Synapses(inh_pop, exc_pop, on_pre='gi_post += inh_weight')\n",
    "Syn_II = b2.Synapses(inh_pop, inh_pop, on_pre='gi_post += inh_weight')"
   ]
  },
  {
   "cell_type": "code",
   "execution_count": 17,
   "metadata": {},
   "outputs": [],
   "source": [
    "Syn_EE.connect(p=0.02)\n",
    "Syn_EI.connect(p=0.02)\n",
    "Syn_IE.connect(p=0.02)\n",
    "Syn_II.connect(p=0.02)"
   ]
  },
  {
   "cell_type": "markdown",
   "metadata": {},
   "source": [
    "## Creating monitors and setting the initial values"
   ]
  },
  {
   "cell_type": "code",
   "execution_count": 18,
   "metadata": {},
   "outputs": [],
   "source": [
    "exc_spikes = b2.SpikeMonitor(exc_pop)\n",
    "inh_spikes = b2.SpikeMonitor(inh_pop)"
   ]
  },
  {
   "cell_type": "code",
   "execution_count": 19,
   "metadata": {},
   "outputs": [],
   "source": [
    "exc_pop.vm = 'VT - randn()*5*mV'\n",
    "inh_pop.vm = 'VT - randn()*5*mV'"
   ]
  },
  {
   "cell_type": "markdown",
   "metadata": {},
   "source": [
    "## Running the simulation"
   ]
  },
  {
   "cell_type": "code",
   "execution_count": 20,
   "metadata": {},
   "outputs": [
    {
     "name": "stderr",
     "output_type": "stream",
     "text": [
      "WARNING    \"statemonitor\" has been included in the network but not the object on which it depends.Setting \"statemonitor\" to inactive. [brian2.core.magic.dependency_warning]\n",
      "WARNING    \"spikemonitor\" has been included in the network but not the object on which it depends.Setting \"spikemonitor\" to inactive. [brian2.core.magic.dependency_warning]\n",
      "INFO       No numerical integration method specified for group 'neurongroup_1', using method 'euler' (took 0.02s, trying other methods took 0.07s). [brian2.stateupdaters.base.method_choice]\n",
      "INFO       No numerical integration method specified for group 'neurongroup_2', using method 'euler' (took 0.01s, trying other methods took 0.01s). [brian2.stateupdaters.base.method_choice]\n"
     ]
    },
    {
     "ename": "RuntimeError",
     "evalue": "statemonitor has already been run in the context of another network. Use add/remove to change the objects in a simulated network instead of creating a new one.",
     "output_type": "error",
     "traceback": [
      "\u001b[0;31m---------------------------------------------------------------------------\u001b[0m",
      "\u001b[0;31mRuntimeError\u001b[0m                              Traceback (most recent call last)",
      "\u001b[0;32m<ipython-input-20-8491e61d3855>\u001b[0m in \u001b[0;36m<module>\u001b[0;34m\u001b[0m\n\u001b[0;32m----> 1\u001b[0;31m \u001b[0mb2\u001b[0m\u001b[0;34m.\u001b[0m\u001b[0mrun\u001b[0m\u001b[0;34m(\u001b[0m\u001b[0;36m1000\u001b[0m\u001b[0;34m*\u001b[0m\u001b[0mms\u001b[0m\u001b[0;34m)\u001b[0m\u001b[0;34m\u001b[0m\u001b[0;34m\u001b[0m\u001b[0m\n\u001b[0m",
      "\u001b[0;32m~/anaconda3/lib/python3.7/site-packages/brian2/units/fundamentalunits.py\u001b[0m in \u001b[0;36mnew_f\u001b[0;34m(*args, **kwds)\u001b[0m\n\u001b[1;32m   2373\u001b[0m                                                      get_dimensions(newkeyset[k]))\n\u001b[1;32m   2374\u001b[0m \u001b[0;34m\u001b[0m\u001b[0m\n\u001b[0;32m-> 2375\u001b[0;31m             \u001b[0mresult\u001b[0m \u001b[0;34m=\u001b[0m \u001b[0mf\u001b[0m\u001b[0;34m(\u001b[0m\u001b[0;34m*\u001b[0m\u001b[0margs\u001b[0m\u001b[0;34m,\u001b[0m \u001b[0;34m**\u001b[0m\u001b[0mkwds\u001b[0m\u001b[0;34m)\u001b[0m\u001b[0;34m\u001b[0m\u001b[0;34m\u001b[0m\u001b[0m\n\u001b[0m\u001b[1;32m   2376\u001b[0m             \u001b[0;32mif\u001b[0m \u001b[0;34m'result'\u001b[0m \u001b[0;32min\u001b[0m \u001b[0mau\u001b[0m\u001b[0;34m:\u001b[0m\u001b[0;34m\u001b[0m\u001b[0;34m\u001b[0m\u001b[0m\n\u001b[1;32m   2377\u001b[0m                 \u001b[0;32mif\u001b[0m \u001b[0mau\u001b[0m\u001b[0;34m[\u001b[0m\u001b[0;34m'result'\u001b[0m\u001b[0;34m]\u001b[0m \u001b[0;34m==\u001b[0m \u001b[0mbool\u001b[0m\u001b[0;34m:\u001b[0m\u001b[0;34m\u001b[0m\u001b[0;34m\u001b[0m\u001b[0m\n",
      "\u001b[0;32m~/anaconda3/lib/python3.7/site-packages/brian2/core/magic.py\u001b[0m in \u001b[0;36mrun\u001b[0;34m(duration, report, report_period, namespace, profile, level)\u001b[0m\n\u001b[1;32m    369\u001b[0m     '''\n\u001b[1;32m    370\u001b[0m     return magic_network.run(duration, report=report, report_period=report_period,\n\u001b[0;32m--> 371\u001b[0;31m                              namespace=namespace, profile=profile, level=2+level)\n\u001b[0m\u001b[1;32m    372\u001b[0m \u001b[0mrun\u001b[0m\u001b[0;34m.\u001b[0m\u001b[0m__module__\u001b[0m \u001b[0;34m=\u001b[0m \u001b[0m__name__\u001b[0m\u001b[0;34m\u001b[0m\u001b[0;34m\u001b[0m\u001b[0m\n\u001b[1;32m    373\u001b[0m \u001b[0;34m\u001b[0m\u001b[0m\n",
      "\u001b[0;32m~/anaconda3/lib/python3.7/site-packages/brian2/core/magic.py\u001b[0m in \u001b[0;36mrun\u001b[0;34m(self, duration, report, report_period, namespace, profile, level)\u001b[0m\n\u001b[1;32m    229\u001b[0m         \u001b[0mself\u001b[0m\u001b[0;34m.\u001b[0m\u001b[0m_update_magic_objects\u001b[0m\u001b[0;34m(\u001b[0m\u001b[0mlevel\u001b[0m\u001b[0;34m=\u001b[0m\u001b[0mlevel\u001b[0m\u001b[0;34m+\u001b[0m\u001b[0;36m1\u001b[0m\u001b[0;34m)\u001b[0m\u001b[0;34m\u001b[0m\u001b[0;34m\u001b[0m\u001b[0m\n\u001b[1;32m    230\u001b[0m         Network.run(self, duration, report=report, report_period=report_period,\n\u001b[0;32m--> 231\u001b[0;31m                     namespace=namespace, profile=profile, level=level+1)\n\u001b[0m\u001b[1;32m    232\u001b[0m \u001b[0;34m\u001b[0m\u001b[0m\n\u001b[1;32m    233\u001b[0m     \u001b[0;32mdef\u001b[0m \u001b[0mstore\u001b[0m\u001b[0;34m(\u001b[0m\u001b[0mself\u001b[0m\u001b[0;34m,\u001b[0m \u001b[0mname\u001b[0m\u001b[0;34m=\u001b[0m\u001b[0;34m'default'\u001b[0m\u001b[0;34m,\u001b[0m \u001b[0mfilename\u001b[0m\u001b[0;34m=\u001b[0m\u001b[0;32mNone\u001b[0m\u001b[0;34m,\u001b[0m \u001b[0mlevel\u001b[0m\u001b[0;34m=\u001b[0m\u001b[0;36m0\u001b[0m\u001b[0;34m)\u001b[0m\u001b[0;34m:\u001b[0m\u001b[0;34m\u001b[0m\u001b[0;34m\u001b[0m\u001b[0m\n",
      "\u001b[0;32m~/anaconda3/lib/python3.7/site-packages/brian2/core/base.py\u001b[0m in \u001b[0;36mdevice_override_decorated_function\u001b[0;34m(*args, **kwds)\u001b[0m\n\u001b[1;32m    274\u001b[0m                 \u001b[0;32mreturn\u001b[0m \u001b[0mgetattr\u001b[0m\u001b[0;34m(\u001b[0m\u001b[0mcurdev\u001b[0m\u001b[0;34m,\u001b[0m \u001b[0mname\u001b[0m\u001b[0;34m)\u001b[0m\u001b[0;34m(\u001b[0m\u001b[0;34m*\u001b[0m\u001b[0margs\u001b[0m\u001b[0;34m,\u001b[0m \u001b[0;34m**\u001b[0m\u001b[0mkwds\u001b[0m\u001b[0;34m)\u001b[0m\u001b[0;34m\u001b[0m\u001b[0;34m\u001b[0m\u001b[0m\n\u001b[1;32m    275\u001b[0m             \u001b[0;32melse\u001b[0m\u001b[0;34m:\u001b[0m\u001b[0;34m\u001b[0m\u001b[0;34m\u001b[0m\u001b[0m\n\u001b[0;32m--> 276\u001b[0;31m                 \u001b[0;32mreturn\u001b[0m \u001b[0mfunc\u001b[0m\u001b[0;34m(\u001b[0m\u001b[0;34m*\u001b[0m\u001b[0margs\u001b[0m\u001b[0;34m,\u001b[0m \u001b[0;34m**\u001b[0m\u001b[0mkwds\u001b[0m\u001b[0;34m)\u001b[0m\u001b[0;34m\u001b[0m\u001b[0;34m\u001b[0m\u001b[0m\n\u001b[0m\u001b[1;32m    277\u001b[0m \u001b[0;34m\u001b[0m\u001b[0m\n\u001b[1;32m    278\u001b[0m         \u001b[0mdevice_override_decorated_function\u001b[0m\u001b[0;34m.\u001b[0m\u001b[0m__doc__\u001b[0m \u001b[0;34m=\u001b[0m \u001b[0mfunc\u001b[0m\u001b[0;34m.\u001b[0m\u001b[0m__doc__\u001b[0m\u001b[0;34m\u001b[0m\u001b[0;34m\u001b[0m\u001b[0m\n",
      "\u001b[0;32m~/anaconda3/lib/python3.7/site-packages/brian2/units/fundamentalunits.py\u001b[0m in \u001b[0;36mnew_f\u001b[0;34m(*args, **kwds)\u001b[0m\n\u001b[1;32m   2373\u001b[0m                                                      get_dimensions(newkeyset[k]))\n\u001b[1;32m   2374\u001b[0m \u001b[0;34m\u001b[0m\u001b[0m\n\u001b[0;32m-> 2375\u001b[0;31m             \u001b[0mresult\u001b[0m \u001b[0;34m=\u001b[0m \u001b[0mf\u001b[0m\u001b[0;34m(\u001b[0m\u001b[0;34m*\u001b[0m\u001b[0margs\u001b[0m\u001b[0;34m,\u001b[0m \u001b[0;34m**\u001b[0m\u001b[0mkwds\u001b[0m\u001b[0;34m)\u001b[0m\u001b[0;34m\u001b[0m\u001b[0;34m\u001b[0m\u001b[0m\n\u001b[0m\u001b[1;32m   2376\u001b[0m             \u001b[0;32mif\u001b[0m \u001b[0;34m'result'\u001b[0m \u001b[0;32min\u001b[0m \u001b[0mau\u001b[0m\u001b[0;34m:\u001b[0m\u001b[0;34m\u001b[0m\u001b[0;34m\u001b[0m\u001b[0m\n\u001b[1;32m   2377\u001b[0m                 \u001b[0;32mif\u001b[0m \u001b[0mau\u001b[0m\u001b[0;34m[\u001b[0m\u001b[0;34m'result'\u001b[0m\u001b[0;34m]\u001b[0m \u001b[0;34m==\u001b[0m \u001b[0mbool\u001b[0m\u001b[0;34m:\u001b[0m\u001b[0;34m\u001b[0m\u001b[0;34m\u001b[0m\u001b[0m\n",
      "\u001b[0;32m~/anaconda3/lib/python3.7/site-packages/brian2/core/network.py\u001b[0m in \u001b[0;36mrun\u001b[0;34m(self, duration, report, report_period, namespace, profile, level)\u001b[0m\n\u001b[1;32m    949\u001b[0m             \u001b[0mnamespace\u001b[0m \u001b[0;34m=\u001b[0m \u001b[0mget_local_namespace\u001b[0m\u001b[0;34m(\u001b[0m\u001b[0mlevel\u001b[0m\u001b[0;34m=\u001b[0m\u001b[0mlevel\u001b[0m\u001b[0;34m+\u001b[0m\u001b[0;36m3\u001b[0m\u001b[0;34m)\u001b[0m\u001b[0;34m\u001b[0m\u001b[0;34m\u001b[0m\u001b[0m\n\u001b[1;32m    950\u001b[0m \u001b[0;34m\u001b[0m\u001b[0m\n\u001b[0;32m--> 951\u001b[0;31m         \u001b[0mself\u001b[0m\u001b[0;34m.\u001b[0m\u001b[0mbefore_run\u001b[0m\u001b[0;34m(\u001b[0m\u001b[0mnamespace\u001b[0m\u001b[0;34m)\u001b[0m\u001b[0;34m\u001b[0m\u001b[0;34m\u001b[0m\u001b[0m\n\u001b[0m\u001b[1;32m    952\u001b[0m \u001b[0;34m\u001b[0m\u001b[0m\n\u001b[1;32m    953\u001b[0m         \u001b[0;32mif\u001b[0m \u001b[0mlen\u001b[0m\u001b[0;34m(\u001b[0m\u001b[0mself\u001b[0m\u001b[0;34m.\u001b[0m\u001b[0mobjects\u001b[0m\u001b[0;34m)\u001b[0m\u001b[0;34m==\u001b[0m\u001b[0;36m0\u001b[0m\u001b[0;34m:\u001b[0m\u001b[0;34m\u001b[0m\u001b[0;34m\u001b[0m\u001b[0m\n",
      "\u001b[0;32m~/anaconda3/lib/python3.7/site-packages/brian2/core/base.py\u001b[0m in \u001b[0;36mdevice_override_decorated_function\u001b[0;34m(*args, **kwds)\u001b[0m\n\u001b[1;32m    274\u001b[0m                 \u001b[0;32mreturn\u001b[0m \u001b[0mgetattr\u001b[0m\u001b[0;34m(\u001b[0m\u001b[0mcurdev\u001b[0m\u001b[0;34m,\u001b[0m \u001b[0mname\u001b[0m\u001b[0;34m)\u001b[0m\u001b[0;34m(\u001b[0m\u001b[0;34m*\u001b[0m\u001b[0margs\u001b[0m\u001b[0;34m,\u001b[0m \u001b[0;34m**\u001b[0m\u001b[0mkwds\u001b[0m\u001b[0;34m)\u001b[0m\u001b[0;34m\u001b[0m\u001b[0;34m\u001b[0m\u001b[0m\n\u001b[1;32m    275\u001b[0m             \u001b[0;32melse\u001b[0m\u001b[0;34m:\u001b[0m\u001b[0;34m\u001b[0m\u001b[0;34m\u001b[0m\u001b[0m\n\u001b[0;32m--> 276\u001b[0;31m                 \u001b[0;32mreturn\u001b[0m \u001b[0mfunc\u001b[0m\u001b[0;34m(\u001b[0m\u001b[0;34m*\u001b[0m\u001b[0margs\u001b[0m\u001b[0;34m,\u001b[0m \u001b[0;34m**\u001b[0m\u001b[0mkwds\u001b[0m\u001b[0;34m)\u001b[0m\u001b[0;34m\u001b[0m\u001b[0;34m\u001b[0m\u001b[0m\n\u001b[0m\u001b[1;32m    277\u001b[0m \u001b[0;34m\u001b[0m\u001b[0m\n\u001b[1;32m    278\u001b[0m         \u001b[0mdevice_override_decorated_function\u001b[0m\u001b[0;34m.\u001b[0m\u001b[0m__doc__\u001b[0m \u001b[0;34m=\u001b[0m \u001b[0mfunc\u001b[0m\u001b[0;34m.\u001b[0m\u001b[0m__doc__\u001b[0m\u001b[0;34m\u001b[0m\u001b[0;34m\u001b[0m\u001b[0m\n",
      "\u001b[0;32m~/anaconda3/lib/python3.7/site-packages/brian2/core/network.py\u001b[0m in \u001b[0;36mbefore_run\u001b[0;34m(self, run_namespace)\u001b[0m\n\u001b[1;32m    852\u001b[0m                                     \u001b[0;34m'add/remove to change the objects '\u001b[0m\u001b[0;34m\u001b[0m\u001b[0;34m\u001b[0m\u001b[0m\n\u001b[1;32m    853\u001b[0m                                     \u001b[0;34m'in a simulated network instead of '\u001b[0m\u001b[0;34m\u001b[0m\u001b[0;34m\u001b[0m\u001b[0m\n\u001b[0;32m--> 854\u001b[0;31m                                     'creating a new one.') % obj.name)\n\u001b[0m\u001b[1;32m    855\u001b[0m \u001b[0;34m\u001b[0m\u001b[0m\n\u001b[1;32m    856\u001b[0m         logger.debug(\"Network {self.name} uses {num} \"\n",
      "\u001b[0;31mRuntimeError\u001b[0m: statemonitor has already been run in the context of another network. Use add/remove to change the objects in a simulated network instead of creating a new one."
     ]
    }
   ],
   "source": [
    "b2.run(1000*ms)"
   ]
  },
  {
   "cell_type": "markdown",
   "metadata": {},
   "source": [
    "## Visualize results"
   ]
  },
  {
   "cell_type": "code",
   "execution_count": null,
   "metadata": {},
   "outputs": [],
   "source": [
    "from brian2tools import brian_plot"
   ]
  },
  {
   "cell_type": "code",
   "execution_count": null,
   "metadata": {},
   "outputs": [],
   "source": [
    "plt.Figure()\n",
    "ax = plt.gca()\n",
    "brian_plot(exc_spikes, axes=ax, c='red')\n",
    "brian_plot(inh_spikes, axes=ax, c='blue')"
   ]
  },
  {
   "cell_type": "code",
   "execution_count": null,
   "metadata": {},
   "outputs": [],
   "source": []
  }
 ],
 "metadata": {
  "kernelspec": {
   "display_name": "Python 3",
   "language": "python",
   "name": "python3"
  },
  "language_info": {
   "codemirror_mode": {
    "name": "ipython",
    "version": 3
   },
   "file_extension": ".py",
   "mimetype": "text/x-python",
   "name": "python",
   "nbconvert_exporter": "python",
   "pygments_lexer": "ipython3",
   "version": "3.7.1"
  }
 },
 "nbformat": 4,
 "nbformat_minor": 2
}
